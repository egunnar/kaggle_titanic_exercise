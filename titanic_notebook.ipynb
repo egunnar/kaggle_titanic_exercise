{
 "cells": [
  {
   "cell_type": "code",
   "execution_count": 349,
   "metadata": {
    "collapsed": false
   },
   "outputs": [],
   "source": [
    "import pandas as pd\n",
    "from sklearn.tree import DecisionTreeClassifier\n",
    "from sklearn.cross_validation import train_test_split\n",
    "import numpy as np\n",
    "from sklearn.metrics import accuracy_score\n",
    "from sklearn.preprocessing import Imputer\n"
   ]
  },
  {
   "cell_type": "code",
   "execution_count": 350,
   "metadata": {
    "collapsed": false
   },
   "outputs": [],
   "source": [
    "df_train_raw = pd.read_csv('downloaded/train.csv')"
   ]
  },
  {
   "cell_type": "code",
   "execution_count": 351,
   "metadata": {
    "collapsed": false
   },
   "outputs": [
    {
     "name": "stdout",
     "output_type": "stream",
     "text": [
      "float64\n"
     ]
    }
   ],
   "source": [
    "# df.dropna() drops the percentage correct to .764\n",
    "\n",
    "# Do some preprocessing here\n",
    "df_train_raw = pd.read_csv('downloaded/train.csv')\n",
    "def do_preprocessing(df):\n",
    "    sex_mapping = {\n",
    "        'female': 0,\n",
    "        'male': 1,\n",
    "    }\n",
    "    df['Sex'] = df['Sex'].map(sex_mapping)\n",
    "    \n",
    "    # for missing Fare put in the mean\n",
    "    imr = Imputer(missing_values='NaN', strategy='mean', axis=0)\n",
    "    print(df['Fare'].values.dtype)\n",
    "    imr = imr.fit(df['Fare'].values.reshape(-1, 1))\n",
    "    imputed_data = imr.transform(df['Fare'].values.reshape(-1,1))\n",
    "    df['Fare'] = pd.DataFrame(imputed_data)\n",
    "    return df\n",
    "\n",
    "\n",
    "df_train = do_preprocessing(df_train_raw)\n",
    "\n",
    "# skipping non numeric columns and columns that have nulls in some rows\n",
    "# TODO need better solution for nulls and numeric columns\n",
    "# Age -> is about 20% null in the trainning data. for now i think there is lower hanging fruit\n",
    "# Fare has 1 null in testing data\n",
    "# eventually should probably be using of these columns \n",
    "# 'Pclass', 'Sex', 'Age', 'SibSp', 'Parch', 'Fare', 'Cabin', 'Embarked'\n",
    "training_columns = ['Pclass', 'Sex', 'SibSp', 'Parch', 'Fare']\n",
    "\n",
    "\n",
    "\n",
    "#df_train_raw['Fare'].values  looks like a arrary OK"
   ]
  },
  {
   "cell_type": "code",
   "execution_count": 352,
   "metadata": {
    "collapsed": false,
    "scrolled": false
   },
   "outputs": [],
   "source": [
    "y_train = df_train['Survived']\n",
    "\n",
    "#x_train = df_train[training_columns]\n",
    "\n",
    "x_train, x_test, y_train, y_test = train_test_split(df_train[training_columns], \n",
    "    y_train, test_size=0.3, random_state=0)\n",
    "\n",
    "# feature scaling not needed for a decision tree but may want to add in later\n",
    "#x_train.describe()\n"
   ]
  },
  {
   "cell_type": "code",
   "execution_count": 353,
   "metadata": {
    "collapsed": false
   },
   "outputs": [
    {
     "name": "stdout",
     "output_type": "stream",
     "text": [
      "total rows:891\n",
      "PassengerId      0\n",
      "Survived         0\n",
      "Pclass           0\n",
      "Name             0\n",
      "Sex              0\n",
      "Age            177\n",
      "SibSp            0\n",
      "Parch            0\n",
      "Ticket           0\n",
      "Fare             0\n",
      "Cabin          687\n",
      "Embarked         2\n",
      "dtype: int64\n",
      "total rows:418\n",
      "PassengerId      0\n",
      "Pclass           0\n",
      "Name             0\n",
      "Sex              0\n",
      "Age             86\n",
      "SibSp            0\n",
      "Parch            0\n",
      "Ticket           0\n",
      "Fare             1\n",
      "Cabin          327\n",
      "Embarked         0\n",
      "dtype: int64\n"
     ]
    }
   ],
   "source": [
    "# let's just explore null values in this cell\n",
    "for i in (['downloaded/train.csv', 'downloaded/test.csv']):\n",
    "    df_tmp = pd.read_csv(i)\n",
    "    print('total rows:{}'.format(len(df_tmp)))\n",
    "    print(df_tmp.isnull().sum())\n"
   ]
  },
  {
   "cell_type": "code",
   "execution_count": 354,
   "metadata": {
    "collapsed": false
   },
   "outputs": [
    {
     "name": "stdout",
     "output_type": "stream",
     "text": [
      "Accuracy: 0.806\n"
     ]
    },
    {
     "data": {
      "text/html": [
       "<div>\n",
       "<table border=\"1\" class=\"dataframe\">\n",
       "  <thead>\n",
       "    <tr style=\"text-align: right;\">\n",
       "      <th></th>\n",
       "      <th>Pclass</th>\n",
       "      <th>Sex</th>\n",
       "      <th>SibSp</th>\n",
       "      <th>Parch</th>\n",
       "      <th>Fare</th>\n",
       "    </tr>\n",
       "  </thead>\n",
       "  <tbody>\n",
       "    <tr>\n",
       "      <th>count</th>\n",
       "      <td>268.000000</td>\n",
       "      <td>268.000000</td>\n",
       "      <td>268.000000</td>\n",
       "      <td>268.000000</td>\n",
       "      <td>268.000000</td>\n",
       "    </tr>\n",
       "    <tr>\n",
       "      <th>mean</th>\n",
       "      <td>2.358209</td>\n",
       "      <td>0.630597</td>\n",
       "      <td>0.503731</td>\n",
       "      <td>0.354478</td>\n",
       "      <td>31.613603</td>\n",
       "    </tr>\n",
       "    <tr>\n",
       "      <th>std</th>\n",
       "      <td>0.824739</td>\n",
       "      <td>0.483546</td>\n",
       "      <td>0.950057</td>\n",
       "      <td>0.742817</td>\n",
       "      <td>52.969870</td>\n",
       "    </tr>\n",
       "    <tr>\n",
       "      <th>min</th>\n",
       "      <td>1.000000</td>\n",
       "      <td>0.000000</td>\n",
       "      <td>0.000000</td>\n",
       "      <td>0.000000</td>\n",
       "      <td>0.000000</td>\n",
       "    </tr>\n",
       "    <tr>\n",
       "      <th>25%</th>\n",
       "      <td>2.000000</td>\n",
       "      <td>0.000000</td>\n",
       "      <td>0.000000</td>\n",
       "      <td>0.000000</td>\n",
       "      <td>7.895800</td>\n",
       "    </tr>\n",
       "    <tr>\n",
       "      <th>50%</th>\n",
       "      <td>3.000000</td>\n",
       "      <td>1.000000</td>\n",
       "      <td>0.000000</td>\n",
       "      <td>0.000000</td>\n",
       "      <td>13.000000</td>\n",
       "    </tr>\n",
       "    <tr>\n",
       "      <th>75%</th>\n",
       "      <td>3.000000</td>\n",
       "      <td>1.000000</td>\n",
       "      <td>1.000000</td>\n",
       "      <td>0.000000</td>\n",
       "      <td>29.268750</td>\n",
       "    </tr>\n",
       "    <tr>\n",
       "      <th>max</th>\n",
       "      <td>3.000000</td>\n",
       "      <td>1.000000</td>\n",
       "      <td>5.000000</td>\n",
       "      <td>5.000000</td>\n",
       "      <td>512.329200</td>\n",
       "    </tr>\n",
       "  </tbody>\n",
       "</table>\n",
       "</div>"
      ],
      "text/plain": [
       "           Pclass         Sex       SibSp       Parch        Fare\n",
       "count  268.000000  268.000000  268.000000  268.000000  268.000000\n",
       "mean     2.358209    0.630597    0.503731    0.354478   31.613603\n",
       "std      0.824739    0.483546    0.950057    0.742817   52.969870\n",
       "min      1.000000    0.000000    0.000000    0.000000    0.000000\n",
       "25%      2.000000    0.000000    0.000000    0.000000    7.895800\n",
       "50%      3.000000    1.000000    0.000000    0.000000   13.000000\n",
       "75%      3.000000    1.000000    1.000000    0.000000   29.268750\n",
       "max      3.000000    1.000000    5.000000    5.000000  512.329200"
      ]
     },
     "execution_count": 354,
     "metadata": {},
     "output_type": "execute_result"
    }
   ],
   "source": [
    "tree = DecisionTreeClassifier(criterion='entropy', max_depth=10, random_state=0)\n",
    "tree.fit(x_train.as_matrix(), y_train.as_matrix())\n",
    "y_pred = tree.predict(x_test)\n",
    "print('Accuracy: %.3f' % accuracy_score(y_test, y_pred))\n",
    "x_test.describe()"
   ]
  },
  {
   "cell_type": "markdown",
   "metadata": {},
   "source": [
    "# Last step generate the file to send to kaggle"
   ]
  },
  {
   "cell_type": "code",
   "execution_count": 355,
   "metadata": {
    "collapsed": false
   },
   "outputs": [
    {
     "name": "stdout",
     "output_type": "stream",
     "text": [
      "float64\n"
     ]
    }
   ],
   "source": [
    "df_test_raw = pd.read_csv('downloaded/test.csv')\n",
    "df_test = do_preprocessing(df_test_raw)\n",
    "\n",
    "x_test = df_test[training_columns]\n",
    "result = tree.predict(x_test)\n",
    "\n",
    "# last step is output the results to a csv\n",
    "df_for_file = df_test[['PassengerId',]]\n",
    "df_result = pd.DataFrame(result)\n",
    "df_result.columns = ['Survived']\n",
    "\n",
    "# get id of false pandas warning\n",
    "pd.options.mode.chained_assignment = None\n",
    "\n",
    "df_for_file['Survived'] = df_result[['Survived',]]\n",
    "\n",
    "df_for_file.to_csv(\"out.csv\", header = ['PassengerId', 'Survived'], index=False)"
   ]
  }
 ],
 "metadata": {
  "kernelspec": {
   "display_name": "Python 3",
   "language": "python",
   "name": "python3"
  },
  "language_info": {
   "codemirror_mode": {
    "name": "ipython",
    "version": 3
   },
   "file_extension": ".py",
   "mimetype": "text/x-python",
   "name": "python",
   "nbconvert_exporter": "python",
   "pygments_lexer": "ipython3",
   "version": "3.5.1"
  }
 },
 "nbformat": 4,
 "nbformat_minor": 0
}
